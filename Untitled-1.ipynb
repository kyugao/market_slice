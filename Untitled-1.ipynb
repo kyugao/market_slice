{
 "cells": [
  {
   "cell_type": "code",
   "execution_count": 5,
   "metadata": {},
   "outputs": [
    {
     "name": "stderr",
     "output_type": "stream",
     "text": [
      "\u001b[32m2025-01-09 15:22:19.520\u001b[0m | \u001b[1mINFO    \u001b[0m | \u001b[36mtrading_day_util\u001b[0m:\u001b[36mget_trading_days\u001b[0m:\u001b[36m34\u001b[0m - \u001b[1m开始获取过去2个交易日...\u001b[0m\n",
      "\u001b[32m2025-01-09 15:22:19.520\u001b[0m | \u001b[1mINFO    \u001b[0m | \u001b[36mtrading_day_util\u001b[0m:\u001b[36mget_trading_days\u001b[0m:\u001b[36m41\u001b[0m - \u001b[1m查询交易日历: start_date=20241210, end_date=20250109\u001b[0m\n",
      "\u001b[32m2025-01-09 15:22:19.529\u001b[0m | \u001b[1mINFO    \u001b[0m | \u001b[36mtrading_day_util\u001b[0m:\u001b[36mget_trading_days\u001b[0m:\u001b[36m60\u001b[0m - \u001b[1m获取到的交易日: ['20250108', '20250109']\u001b[0m\n"
     ]
    },
    {
     "name": "stdout",
     "output_type": "stream",
     "text": [
      "<class 'pandas.core.frame.DataFrame'>\n",
      "                  volume            amount\n",
      "trade_time                                \n",
      "2025-01-02 09:35  840389  657405578.000000\n",
      "2025-01-02 09:40  456483  356345332.000000\n",
      "2025-01-02 09:45  436005  332483924.000000\n",
      "2025-01-02 09:50  370229  300526474.000000\n",
      "2025-01-02 09:55  276222  213657912.000000\n",
      "...                  ...               ...\n",
      "2025-01-08 14:40  148615  109513279.000000\n",
      "2025-01-08 14:45  113553   86628593.000000\n",
      "2025-01-08 14:50  138597  102081343.000000\n",
      "2025-01-08 14:55  204121  147165856.000000\n",
      "2025-01-08 15:00  237549  160979875.000000\n",
      "\n",
      "[240 rows x 2 columns]\n"
     ]
    }
   ],
   "source": [
    "from trading_day_util import TradingDayUtil\n",
    "import pandas as pd\n",
    "from adata.common import requests\n",
    "\n",
    "def five_min_amount_history(code: str, days: int = 5):\n",
    "    limit = days * 48\n",
    "    prevTradeDays = TradingDayUtil.get_previous_trading_days(inDays = 1)\n",
    "    url = f\"https://push2his.eastmoney.com/api/qt/stock/kline/get?secid=90.{code}&ut=fa5fd1943c7b386f172d6893dbfba10b&fields1=f1%2Cf2%2Cf3%2Cf4%2Cf5%2Cf6&fields2=f51%2Cf56%2Cf57&klt=5&fqt=1&end={prevTradeDays[-1]}&lmt={limit}&_=1736309467992\"\n",
    "    res_json = requests.request('get', url, headers={}, proxies={}).json()\n",
    "    # print(f\"获取到的五分钟K线数据：{res_json}\")\n",
    "    result = pd.DataFrame(item.split(',') for item in res_json['data']['klines'])\n",
    "    result.columns = ['trade_time', 'volume', 'amount']\n",
    "    result.set_index('trade_time', inplace=True)\n",
    "    return result\n",
    "\n",
    "result = five_min_amount_history(code='BK0623')\n",
    "print(type(result))\n",
    "print(result)"
   ]
  }
 ],
 "metadata": {
  "kernelspec": {
   "display_name": "quant_env",
   "language": "python",
   "name": "python3"
  },
  "language_info": {
   "codemirror_mode": {
    "name": "ipython",
    "version": 3
   },
   "file_extension": ".py",
   "mimetype": "text/x-python",
   "name": "python",
   "nbconvert_exporter": "python",
   "pygments_lexer": "ipython3",
   "version": "3.12.8"
  }
 },
 "nbformat": 4,
 "nbformat_minor": 2
}
