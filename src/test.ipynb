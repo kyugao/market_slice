{
 "cells": [
  {
   "cell_type": "code",
   "execution_count": 1,
   "metadata": {},
   "outputs": [
    {
     "data": {
      "text/plain": [
       "<bound method DataFrame.value_counts of         prefix  name contract_type\n",
       "code                              \n",
       "BK0490      90    军工            概念\n",
       "BK0492      90   煤化工            概念\n",
       "BK0493      90   新能源            概念\n",
       "BK0494      90  节能环保            概念\n",
       "BK0498      90   AB股            概念\n",
       "...        ...   ...           ...\n",
       "920108       0  宏海科技            股票\n",
       "920111       0  聚星科技            股票\n",
       "920116       0  星图测控            股票\n",
       "920118       0  太湖远大            股票\n",
       "920128       0  胜业电气            股票\n",
       "\n",
       "[6261 rows x 3 columns]>"
      ]
     },
     "execution_count": 1,
     "metadata": {},
     "output_type": "execute_result"
    }
   ],
   "source": [
    "from utils.contract_list_data_service import ContractUtil\n",
    "\n",
    "ContractUtil.init_data()\n",
    "result = ContractUtil.get_contract_data()\n",
    "result.sample(10)\n",
    "result.value_counts"
   ]
  },
  {
   "cell_type": "code",
   "execution_count": null,
   "metadata": {},
   "outputs": [
    {
     "name": "stdout",
     "output_type": "stream",
     "text": [
      "vec_version=v0.1.6\n"
     ]
    }
   ],
   "source": [
    "import sqlite3\n",
    "import sqlite_vec\n",
    "\n",
    "db = sqlite3.connect(\":memory:\")\n",
    "db.enable_load_extension(True)\n",
    "sqlite_vec.load(db)\n",
    "db.enable_load_extension(False)\n",
    "\n",
    "vec_version, = db.execute(\"select vec_version()\").fetchone()\n",
    "print(f\"vec_version={vec_version}\")\n"
   ]
  }
 ],
 "metadata": {
  "kernelspec": {
   "display_name": "czsc_env",
   "language": "python",
   "name": "python3"
  },
  "language_info": {
   "codemirror_mode": {
    "name": "ipython",
    "version": 3
   },
   "file_extension": ".py",
   "mimetype": "text/x-python",
   "name": "python",
   "nbconvert_exporter": "python",
   "pygments_lexer": "ipython3",
   "version": "3.10.13"
  }
 },
 "nbformat": 4,
 "nbformat_minor": 2
}
